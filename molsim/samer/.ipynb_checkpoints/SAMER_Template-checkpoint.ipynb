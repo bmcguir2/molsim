{
 "cells": [
  {
   "cell_type": "markdown",
   "id": "9a625eae-c47a-4874-a744-69388af3f658",
   "metadata": {},
   "source": [
    "This notebook is designed to get users up-to-speed with the capabilities of molsim's Simultaneous Autonomous Molecular Emission Resolver (SAMER). \n",
    "This routine is intended to measure the excitation temperature, linewidth, velocity, and column densities for a given list of molecules to a given spectrum.\n",
    "This routine was tested on spectra from a number of star-forming regions which are typically a dense collection of emission lines.\n",
    "The intended use case is to fit the spectra extacted from an entire field of view on a per-pixel basis, allowing the user to create maps of physical quantites.\n",
    "The spectra are required to be in a specific format, please see the included extract_spectra.py for a template script."
   ]
  },
  {
   "cell_type": "code",
   "execution_count": null,
   "id": "24d07209",
   "metadata": {
    "tags": []
   },
   "outputs": [],
   "source": [
    "#Quick way to import necessary molsim functions\n",
    "%run -i /Users/samer/Documents/nrao_dir/molsim_dev/ipython_quickstart.py\n",
    "\n",
    "from molsim.samer import *\n",
    "\n",
    "# from molsim.samer.SAMER_Classes import Fitting_Variables, Pixel, Molecule_Parameters\n",
    "# from molsim.samer.SAMER_Functions import file_to_dict, gen_continuum, gen_pixel_dict, pixel_hopping, create_params, store_params, read_params, update_params\n",
    "# from molsim.samer.SAMER_Functions import calc_mean_params, obs_exclusion, min_function, fit_initial_column, fit_row, mp_helper, fit_multiprocessing\n",
    "# from molsim.samer.SAMER_Functions import plot_fit, plot_fit_multi, print_lines_from_fit, pull_fits_header_info, create_figure\n",
    "\n",
    "import numpy as np\n",
    "import scipy.optimize\n",
    "import matplotlib.pyplot as plt\n",
    "from molsim.utils import _get_res\n",
    "import json\n",
    "import time\n",
    "from astropy.io import fits\n",
    "from astropy.coordinates import SkyCoord\n",
    "from astropy import units as u\n",
    "from astropy.wcs import WCS\n",
    "import glob\n",
    "import matplotlib\n",
    "import pathlib\n",
    "import lmfit\n",
    "from lmfit import Model, Parameters, Minimizer, report_fit\n",
    "import os\n",
    "import multiprocessing as mp\n",
    "%matplotlib widget"
   ]
  },
  {
   "cell_type": "code",
   "execution_count": null,
   "id": "dc8129bb-d895-4d9a-9410-1ea4659da447",
   "metadata": {
    "tags": []
   },
   "outputs": [],
   "source": [
    "#Load in all of the molecule data into the appropriate Molecule object for molsim\n",
    "census_directory = '/Users/samer/Downloads/2018_census_catalogs/'\n",
    "\n",
    "nh2cn = load_mol(census_directory+'nh2cn.cat', type='SPCAT', name='nh2cn', qpart_file=census_directory+'nh2cn.qpart')\n",
    "_13ch3oh = load_mol(census_directory+'13ch3oh_brett.cat', type='SPCAT', name='_13ch3oh', qpart_file=census_directory+'13ch3oh.qpart')\n",
    "ch3cn = load_mol(census_directory+'ch3cn.cat', type='SPCAT', name='ch3cn', qpart_file=census_directory+'ch3cn.qpart')\n",
    "ch3cn_1v8 = load_mol(census_directory+'ch3cn_1v8.cat', type='SPCAT', name='ch3cn_1v8', qpart_file=census_directory+'ch3cn.qpart')\n",
    "nh2cho = load_mol(census_directory+'nh2cho.cat', type='SPCAT', name='nh2cho', qpart_file=census_directory+'nh2cho.qpart')\n",
    "nh2cho_1v12 = load_mol(census_directory+'nh2cho_1v12.cat', type='SPCAT', name='nh2cho_1v12', qpart_file=census_directory+'nh2cho_1v12.qpart')\n",
    "ch3cho = load_mol(census_directory+'ch3cho.cat', type='SPCAT', name='ch3cho', qpart_file=census_directory+'ch3cho.qpart')\n",
    "ch3ocho = load_mol(census_directory+'ch3ocho.cat', type='SPCAT', name='ch3ocho', qpart_file=census_directory+'ch3ocho.qpart')\n",
    "ch3cooh = load_mol(census_directory+'ch3cooh.cat', type='SPCAT', name='ch3cooh', qpart_file=census_directory+'ch3cooh.qpart')\n",
    "ch3cooh_v1 = load_mol(census_directory+'ch3cooh_v1.cat', type='SPCAT', name='ch3cooh_v1', qpart_file=census_directory+'ch3cooh.qpart')\n",
    "hcoch2oh = load_mol(census_directory+'hcoch2oh.cat', type='SPCAT', name='hcoch2oh', qpart_file=census_directory+'hcoch2oh.qpart')\n",
    "ch3och3 = load_mol(census_directory+'ch3och3.cat', type='SPCAT', name='ch3och3', qpart_file=census_directory+'ch3och3.qpart')\n",
    "c2h5oh = load_mol(census_directory+'c2h5oh.cat', type='SPCAT', name='c2h5oh', qpart_file=census_directory+'c2h5oh.qpart')\n",
    "c2h5cn = load_mol(census_directory+'c2h5cn.cat', type='SPCAT', name='c2h5cn', qpart_file=census_directory+'c2h5cn.qpart')\n",
    "ch3coch3 = load_mol(census_directory+'ch3coch3.cat', type='SPCAT', name='ch3coch3', qpart_file=census_directory+'ch3coch3.qpart')\n",
    "a_ch2ohch2oh = load_mol(census_directory+'a-ch2ohch2oh.cat', type='SPCAT', name='a_ch2ohch2oh', qpart_file=census_directory+'a-ch2ohch2oh.qpart')\n",
    "g_ch2ohch2oh = load_mol(census_directory+'g-ch2ohch2oh.cat', type='SPCAT', name='g_ch2ohch2oh', qpart_file=census_directory+'g-ch2ohch2oh.qpart')\n",
    "so2 = load_mol(census_directory+'so2.cat', type='SPCAT', name='so2', qpart_file=census_directory+'so2.qpart')\n",
    "so2_v2 = load_mol(census_directory+'so2_v2.cat', type='SPCAT', name='so2_v2', qpart_file=census_directory+'so2.qpart')\n",
    "ch3oh = load_mol(census_directory+'ch3oh.cat', type='SPCAT', name='ch3oh', qpart_file=census_directory+'ch3oh.qpart')\n",
    "so = load_mol(census_directory+'so.cat', type='SPCAT', name='so', qpart_file=census_directory+'so.qpart')\n",
    "so_v1 = load_mol(census_directory+'so_v1.cat', type='SPCAT', name='so_v1', qpart_file=census_directory+'so.qpart')\n",
    "h13cn = load_mol(census_directory+'h13cn.cat', type='SPCAT', name='h13cn', qpart_file=census_directory+'h13cn.qpart')\n",
    "h13co_p = load_mol(census_directory+'h13co+.cat', type='SPCAT', name='h13co_p', qpart_file=census_directory+'h13co+.qpart')\n",
    "hc15n = load_mol(census_directory+'hc15n.cat', type='SPCAT', name='hc15n', qpart_file=census_directory+'hc15n.qpart')\n",
    "ch2dcn = load_mol(census_directory+'ch2dcn.cat', type='SPCAT', name='ch2dcn', qpart_file=census_directory+'ch2dcn.qpart')\n",
    "oc34s = load_mol(census_directory+'oc34s.cat', type='SPCAT', name='oc34s', qpart_file=census_directory+'oc34s.qpart')"
   ]
  },
  {
   "cell_type": "code",
   "execution_count": null,
   "id": "6c1940c9-ed93-4d90-bbde-58841211e78d",
   "metadata": {},
   "outputs": [],
   "source": [
    "#Put the Molecule objects that we want to fit to the data in a list\n",
    "#Note that if there are molecules we want to fit as a set, we only include one of those species here\n",
    "fit_molecules = [a_ch2ohch2oh, g_ch2ohch2oh, c2h5oh, c2h5cn, ch3coch3,\n",
    "                ch3och3, ch3ocho, ch3cooh, hcoch2oh,\n",
    "                ch3oh, _13ch3oh, ch3cho, ch3cn, ch2dcn, \n",
    "                nh2cho, nh2cn, h13cn, hc15n, h13co_p, \n",
    "                so, so2, oc34s]\n",
    "\n",
    "#Need to organize the list of molecules into a properly-formatted dictionary for the fit\n",
    "#Molecules that you want to fit with the same parameters should be associated with the same key\n",
    "#In this case we are fitting the ground state with the vibrational state for a number of molecules\n",
    "fit_molecules_dict = dict()\n",
    "for mol in fit_molecules:\n",
    "    if mol.name == 'ch3cooh':\n",
    "        fit_molecules_dict[mol.name] = [ch3cooh, ch3cooh_v1]\n",
    "    elif mol.name == 'ch3cn':\n",
    "        fit_molecules_dict[mol.name] = [ch3cn, ch3cn_1v8]\n",
    "    elif mol.name == 'nh2cho':\n",
    "        fit_molecules_dict[mol.name] = [nh2cho, nh2cho_1v12] \n",
    "    elif mol.name == 'so':\n",
    "        fit_molecules_dict[mol.name] = [so, so_v1]\n",
    "    elif mol.name == 'so2':\n",
    "        fit_molecules_dict[mol.name] = [so2, so2_v2]\n",
    "    else:\n",
    "        fit_molecules_dict[mol.name] = [mol]\n",
    "        \n",
    "#Set the upper state energy threshold for excluding certain molecular transitions from the fit\n",
    "#Use 'exclude' to mask all the channels in your observations with emission from the molecule\n",
    "#Else pass a number (n) to exclude all transitions with Eup < n * mean background temperature for a pixel\n",
    "exclusion_dict = dict()\n",
    "for mol in fit_molecules_dict:\n",
    "    if mol == 'ch3oh':\n",
    "        exclusion_dict[mol] = 'exclude'\n",
    "    elif mol == 'h13cn':\n",
    "        exclusion_dict[mol] = 'exclude'\n",
    "    elif mol == 'hc15n':\n",
    "        exclusion_dict[mol] = 'exclude'\n",
    "    elif mol == 'h13co_p':\n",
    "        exclusion_dict[mol] = 'exclude'\n",
    "    elif mol == 'so':\n",
    "        exclusion_dict[mol] = 'exclude'\n",
    "    elif mol == 'oc34s':\n",
    "        exclusion_dict[mol] = 'exclude'\n",
    "    elif mol == 'example_mol':\n",
    "        exclusion_dict[mol] = 3."
   ]
  },
  {
   "cell_type": "code",
   "execution_count": null,
   "id": "7f6cfe1d-8b24-456c-8299-e94eaa4f564d",
   "metadata": {
    "tags": []
   },
   "outputs": [],
   "source": [
    "#Defining the attributes of our Fitting_Variables object so that we can begin the fit\n",
    "#Attribute descriptions are available in SAMER_classes.py\n",
    "example_fv = Fitting_Variables()\n",
    "\n",
    "example_fv.source = 'g34.41'\n",
    "example_fv.spectra_dir = '/Users/samer/Downloads/coccoa_spectra/'+example_fv.source+'_complete/'\n",
    "example_fv.output_dir = '/Users/samer/Downloads/coccoa_results/'+example_fv.source+'_results/'\n",
    "example_fv.x_size = 45\n",
    "example_fv.y_size = 40\n",
    "example_fv.observatory = Observatory(sd=False, array=True, synth_beam=[0.33,0.33])\n",
    "example_fv.shared_tex = True\n",
    "example_fv.shared_dV = True\n",
    "example_fv.shared_vlsr = True\n",
    "example_fv.tex_calculation = 'minimizer'\n",
    "example_fv.dV_calculation = 'minimizer'\n",
    "example_fv.molecule_dict = fit_molecules_dict\n",
    "example_fv.initial_tex = 110 \n",
    "example_fv.initial_dV = 4.4\n",
    "example_fv.initial_vlsr = 58\n",
    "example_fv.initial_nt = 17.5\n",
    "example_fv.tex_flex = 10 #20\n",
    "example_fv.dV_flex = 0.3\n",
    "example_fv.vlsr_flex = 0.7\n",
    "example_fv.nt_flex = 0.4\n",
    "example_fv.nt_flex_pixel_1 = 2.5\n",
    "example_fv.exclusion = True\n",
    "example_fv.exclusion_dict = exclusion_dict\n",
    "\n",
    "#Pass customized initial parameters for molecules\n",
    "custom_params_dict = dict()\n",
    "for mol in fit_molecules_dict:\n",
    "    if mol == 'ch3oh':\n",
    "        custom_params_dict[mol] = dict()\n",
    "        custom_params_dict[mol]['nt'] = 18.\n",
    "example_fv.custom_params_dict = custom_params_dict\n",
    "\n",
    "# example_fv.min_sep = 5 #The minimum separation between peaks (in MHz) during the peak finding process\n",
    "# example_fv.sigma = 3 #The sigma cutoff for detecting peaks by the peakfinder (i.e. 3 for 3 sigma, etc.)\n",
    "# example_fv.n_chans = 2 #The number of channels to include on either side of the central channel when fitting Gaussians to the peaks\n",
    "# example_fv.n_bins = 100 #The number of bins to include in the histogram of FWHMs\n",
    "\n",
    "start_pixel = '20_13'"
   ]
  },
  {
   "cell_type": "code",
   "execution_count": null,
   "id": "6f66be3d-e6dd-49a4-9d37-3aa886f3d7ac",
   "metadata": {},
   "outputs": [],
   "source": [
    "#Generate a dictionary of Pixel objects so that we can more easily pick out spectra to view in the notebook\n",
    "pixel_dict = gen_pixel_dict(example_fv)"
   ]
  },
  {
   "cell_type": "code",
   "execution_count": null,
   "id": "6033b6e0-0d8d-447c-9ba7-7cc6817f052e",
   "metadata": {},
   "outputs": [],
   "source": [
    "#Begin the fitting\n",
    "fit_initial_column(pixel_dict, example_fv, start_pixel=start_pixel, single_pixel=False)"
   ]
  },
  {
   "cell_type": "code",
   "execution_count": null,
   "id": "2d731e4a-1b5a-46c3-9876-143ea55b9990",
   "metadata": {},
   "outputs": [],
   "source": [
    "#If one wants to fit a single row\n",
    "#fit_row(7, pixel_dict, example_fv, start_pixel=start_pixel)"
   ]
  },
  {
   "cell_type": "code",
   "execution_count": null,
   "id": "a37dbe4e-9e05-42a8-ba60-e90053fdc95d",
   "metadata": {},
   "outputs": [],
   "source": [
    "#If one wants to fit the entire image while utilizing multiple cores of the CPU\n",
    "rows = np.arange(0, example_fv.y_size)\n",
    "if __name__ == '__main__':\n",
    "    fit_multiprocessing(rows, mp.cpu_count()-1, start_pixel, pixel_dict, example_fv)"
   ]
  },
  {
   "cell_type": "code",
   "execution_count": null,
   "id": "7d239ef8-2335-4a5f-af63-82e8372347e4",
   "metadata": {},
   "outputs": [],
   "source": [
    "#Alternatively pull the information for Pixel objects from output files if they were previously fit\n",
    "for pixel in pixel_dict:\n",
    "    if os.path.isfile(example_fv.output_dir+example_fv.source+'_'+pixel+'.txt'):\n",
    "        read_params(pixel, pixel_dict, example_fv)"
   ]
  },
  {
   "cell_type": "code",
   "execution_count": null,
   "id": "68f9bcb2-5ce2-44eb-abf3-2b04d786ca81",
   "metadata": {},
   "outputs": [],
   "source": [
    "#Plot the resulting fit for a single pixel\n",
    "if 'fig' in locals():\n",
    "    plt.close(fig)\n",
    "\n",
    "plot_pixel = '30_9'\n",
    "plot_mols = ['ch3ocho', 'hcoch2oh'] #If one wants to highlight a specific molecule or set of molecules\n",
    "plot_fit(plot_pixel, pixel_dict, example_fv, show_sum=True, highlight_molecules=plot_mols, figsize=(10,5))\n",
    "for mol in plot_mols:\n",
    "    #Print out the fit parameters for the selected list of molecules\n",
    "    print(mol, pixel_dict[plot_pixel].molecule_params[mol].tex, pixel_dict[plot_pixel].molecule_params[mol].dV, \n",
    "          pixel_dict[plot_pixel].molecule_params[mol].vlsr, pixel_dict[plot_pixel].molecule_params[mol].nt)\n",
    "    #Output a table with the detected transitions in your frequency range for the selected list of molecules\n",
    "    print_lines_from_fit(plot_pixel, pixel_dict, example_fv, mol, tau=None, eup=None, int_thresh=0.001)"
   ]
  },
  {
   "cell_type": "code",
   "execution_count": null,
   "id": "e4b258da-783b-4782-a86a-c010daa24bfa",
   "metadata": {},
   "outputs": [],
   "source": [
    "#Plot multiple pixels at once if one wants to compare spectra/fits\n",
    "if 'fig' in locals():\n",
    "    plt.close(fig)\n",
    "\n",
    "plot_pixel_list = ['17_8', '19_30']\n",
    "\n",
    "plot_mols = ['ch3ocho']\n",
    "\n",
    "plot_fit_multi(plot_pixel_list, pixel_dict, example_fv, show_sum=True, highlight_molecules=plot_mols)\n",
    "\n",
    "for plot_pixel in plot_pixel_list:\n",
    "    mol = plot_mols[0]\n",
    "    print(plot_pixel, pixel_dict[plot_pixel].molecule_params[mol].tex, pixel_dict[plot_pixel].molecule_params[mol].dV, \n",
    "          pixel_dict[plot_pixel].molecule_params[mol].vlsr, pixel_dict[plot_pixel].molecule_params[mol].nt)\n",
    "    #print_lines_from_fit(plot_pixel, pixel_dict, example_fv, mol, tau=None, eup=None, int_thresh=0.001)"
   ]
  },
  {
   "cell_type": "code",
   "execution_count": null,
   "id": "5c357bd9-60b5-4c5a-a5e5-e6df986f4cf3",
   "metadata": {},
   "outputs": [],
   "source": [
    "#Create figures and .fits files with the correct coordinates\n",
    "#Requires a template .fits file that contains the necessary information in its header\n",
    "fits_dir = '/Users/samer/Downloads/coccoa_template_fits_files/'\n",
    "infile = fits_dir + 'G34.41+0.24_TuneB.cont_multiR0.5_ap.image.tt0.pbcor.0.33.fits'\n",
    "pos_key = example_fv.spectra_dir+example_fv.source+'_pos_key.txt'\n",
    "fits_info = pull_fits_header_info(infile, pos_key, example_fv)"
   ]
  },
  {
   "cell_type": "code",
   "execution_count": null,
   "id": "b45126e1-cc41-4b13-8b62-a9cb60d6e93f",
   "metadata": {},
   "outputs": [],
   "source": [
    "#Create the continuum file first so contours can be applied to other figures\n",
    "create_figure('continuum', pixel_dict, example_fv, make_fits=True, fits_info=fits_info, make_png=True, figsize=(6,5))"
   ]
  },
  {
   "cell_type": "code",
   "execution_count": null,
   "id": "84c224eb-0e96-4b7c-8589-87fc48035537",
   "metadata": {},
   "outputs": [],
   "source": [
    "#Create a set of figures with no masking criteria\n",
    "tbg_contours = [15,30,45]\n",
    "create_figure('tex', pixel_dict, example_fv, make_fits=True, fits_info=fits_info, make_png=True, figsize=(6,5), contours=tbg_contours)\n",
    "create_figure('dV', pixel_dict, example_fv, make_fits=True, fits_info=fits_info, make_png=True, figsize=(6,5), contours=tbg_contours)\n",
    "create_figure('vlsr', pixel_dict, example_fv, make_fits=True, fits_info=fits_info, make_png=True, figsize=(6,5), contours=tbg_contours)\n",
    "for mol in pixel_dict['0_0'].molecule_params:\n",
    "    create_figure(mol, pixel_dict, example_fv, make_fits=True, fits_info=fits_info, make_png=True, figsize=(6,5), contours=tbg_contours)"
   ]
  },
  {
   "cell_type": "code",
   "execution_count": null,
   "id": "ce08146e-637c-43c8-bfa8-eabd50f832c5",
   "metadata": {},
   "outputs": [],
   "source": [
    "#Create a set of figures with a variety of masking criteria\n",
    "tbg_contours = [15,30,45]\n",
    "create_figure('tex', pixel_dict, example_fv, make_fits=True, fits_info=fits_info, make_png=True, figsize=(6,5), contours=tbg_contours,\n",
    "             tex_thresh_upper=130.)\n",
    "create_figure('dV', pixel_dict, example_fv, make_fits=True, fits_info=fits_info, make_png=True, figsize=(6,5), contours=tbg_contours,\n",
    "             tex_thresh_upper=130.)\n",
    "create_figure('vlsr', pixel_dict, example_fv, make_fits=True, fits_info=fits_info, make_png=True, figsize=(6,5), contours=tbg_contours,\n",
    "             tex_thresh_upper=130.)\n",
    "for mol in pixel_dict['0_0'].molecule_params:\n",
    "    create_figure(mol, pixel_dict, example_fv, make_fits=True, fits_info=fits_info, make_png=True, figsize=(6,5), contours=tbg_contours,\n",
    "                 tex_thresh_upper=130., transition_thresh=2, noise_thresh=3*get_rms(pixel_dict['0_0'].obs_y))"
   ]
  },
  {
   "cell_type": "code",
   "execution_count": null,
   "id": "f25a909e-620e-4688-aa1d-ff5b881639cb",
   "metadata": {},
   "outputs": [],
   "source": [
    "#Create a set of ratio maps with respect to a selected molecule\n",
    "ratio_mol = 'ch3ocho'\n",
    "for mol in pixel_dict['0_0'].molecule_params:\n",
    "    create_figure('ratio', pixel_dict, example_fv, make_fits=True, fits_info=fits_info, ratio_mols=[mol,ratio_mol], make_png=True, figsize=(6,5), contours=[12],\n",
    "                 tex_thresh_upper=130.)"
   ]
  },
  {
   "cell_type": "code",
   "execution_count": null,
   "id": "40f259fc-4239-4bda-a56d-522cd1ac9804",
   "metadata": {},
   "outputs": [],
   "source": []
  }
 ],
 "metadata": {
  "kernelspec": {
   "display_name": "molsim-dev",
   "language": "python",
   "name": "molsim-dev"
  },
  "language_info": {
   "codemirror_mode": {
    "name": "ipython",
    "version": 3
   },
   "file_extension": ".py",
   "mimetype": "text/x-python",
   "name": "python",
   "nbconvert_exporter": "python",
   "pygments_lexer": "ipython3",
   "version": "3.7.10"
  }
 },
 "nbformat": 4,
 "nbformat_minor": 5
}
